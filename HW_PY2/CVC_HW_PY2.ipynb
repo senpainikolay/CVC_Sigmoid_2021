{
 "cells": [
  {
   "cell_type": "code",
   "execution_count": 1,
   "id": "58cccfd4",
   "metadata": {},
   "outputs": [],
   "source": [
    "import datetime  \n",
    "import re"
   ]
  },
  {
   "cell_type": "code",
   "execution_count": 2,
   "id": "ede56710",
   "metadata": {},
   "outputs": [],
   "source": [
    "class OM():\n",
    "    def __init__(self, Nume, Prenume, dataNasterii):  #  dataNasterii =  'an/luna/zi'  , de dorit fara 0s in fata :) \n",
    "        self.Nume = Nume\n",
    "        self.Prenume = Prenume \n",
    "        x = re.findall('\\d+', dataNasterii)      \n",
    "        self.dataNasterii  = datetime.datetime( int(x[0]) , int(x[1]) , int(x[2]))  \n",
    "    def calc_varsta(self): \n",
    "        \n",
    "        x = datetime.datetime.now()   \n",
    "        \n",
    "        if x.year > self.dataNasterii.year:\n",
    "            \n",
    "            if x.month > self.dataNasterii.month:\n",
    "                \n",
    "                return x.year - self.dataNasterii.year \n",
    "                                                   \n",
    "            elif x.month < self.dataNasterii.month:\n",
    "                                                   \n",
    "                return x.year - self.dataNasterii.year  -1 \n",
    "            else:\n",
    "                if x.day > self.dataNasterii.day:\n",
    "                    return x.year - self.dataNasterii.year \n",
    "                elif x.day  < self.dataNasterii.day: \n",
    "                    return x.year - self.dataNasterii.year - 1\n",
    "                else:\n",
    "                    return \"Happy Birthday!!\"\n",
    "        else:\n",
    "            return \"Newborns can't type! Do not fool me!\"                                           \n",
    "        "
   ]
  },
  {
   "cell_type": "code",
   "execution_count": 3,
   "id": "ede2df07",
   "metadata": {},
   "outputs": [],
   "source": [
    "Omu = OM('Ion', 'JJ', '2001/9/8') #'an/luna/zi'  , de dorit fara 0s in fata :) "
   ]
  },
  {
   "cell_type": "code",
   "execution_count": 4,
   "id": "cb5de56b",
   "metadata": {},
   "outputs": [
    {
     "data": {
      "text/plain": [
       "20"
      ]
     },
     "execution_count": 4,
     "metadata": {},
     "output_type": "execute_result"
    }
   ],
   "source": [
    "Omu.calc_varsta()"
   ]
  },
  {
   "cell_type": "code",
   "execution_count": 5,
   "id": "bb1748b1",
   "metadata": {},
   "outputs": [],
   "source": [
    "class Elev(OM):\n",
    "    def __init__(self,Nume, Prenume, dataNasterii, Clasa, Nota_Medie): \n",
    "        super().__init__(Nume, Prenume, dataNasterii) \n",
    "        self.Clasa = Clasa \n",
    "        self.Nota_Medie = Nota_Medie\n",
    "    \n",
    "    def Este_eminent(self):\n",
    "        if self.Nota_Medie == 10:\n",
    "            return \"este eminent\"\n",
    "        else:\n",
    "            return \"nu este eminent\""
   ]
  },
  {
   "cell_type": "code",
   "execution_count": 6,
   "id": "faf4ba22",
   "metadata": {},
   "outputs": [],
   "source": [
    "Elevu = Elev('Tj', 'Gg', '2001/10/25', 7, 10)"
   ]
  },
  {
   "cell_type": "code",
   "execution_count": 7,
   "id": "55ec16b8",
   "metadata": {},
   "outputs": [
    {
     "data": {
      "text/plain": [
       "'este eminent'"
      ]
     },
     "execution_count": 7,
     "metadata": {},
     "output_type": "execute_result"
    }
   ],
   "source": [
    "Elevu.Este_eminent()"
   ]
  },
  {
   "cell_type": "code",
   "execution_count": 8,
   "id": "4d9bfb32",
   "metadata": {},
   "outputs": [],
   "source": [
    "class Profesor(OM):\n",
    "    def __init__(self, Nume, Prenume, dataNasterii, Discipline, Salariu):\n",
    "        super().__init__(Nume, Prenume, dataNasterii)\n",
    "        self.Discipline = Discipline\n",
    "        self.Salariu = Salariu\n",
    "    \n",
    "    def Salariu_anual(self): \n",
    "        return self.Salariu*12 \n",
    "    \n",
    "    def Nr_discipline(self):\n",
    "        return len(self.Discipline)"
   ]
  },
  {
   "cell_type": "code",
   "execution_count": 9,
   "id": "21772dee",
   "metadata": {},
   "outputs": [],
   "source": [
    "Profu =Profesor('Mark', 'Karl', '1996/2/24',['Biologie', 'Chimie', 'Matem'],2000)"
   ]
  },
  {
   "cell_type": "code",
   "execution_count": 10,
   "id": "ce467e85",
   "metadata": {},
   "outputs": [
    {
     "data": {
      "text/plain": [
       "24000"
      ]
     },
     "execution_count": 10,
     "metadata": {},
     "output_type": "execute_result"
    }
   ],
   "source": [
    "Profu.Salariu_anual()"
   ]
  },
  {
   "cell_type": "code",
   "execution_count": 11,
   "id": "ae0b1efd",
   "metadata": {},
   "outputs": [
    {
     "data": {
      "text/plain": [
       "3"
      ]
     },
     "execution_count": 11,
     "metadata": {},
     "output_type": "execute_result"
    }
   ],
   "source": [
    "Profu.Nr_discipline()"
   ]
  },
  {
   "cell_type": "code",
   "execution_count": 12,
   "id": "fc11a958",
   "metadata": {},
   "outputs": [
    {
     "data": {
      "text/plain": [
       "25"
      ]
     },
     "execution_count": 12,
     "metadata": {},
     "output_type": "execute_result"
    }
   ],
   "source": [
    "Profu.calc_varsta()"
   ]
  }
 ],
 "metadata": {
  "kernelspec": {
   "display_name": "Python 3 (ipykernel)",
   "language": "python",
   "name": "python3"
  },
  "language_info": {
   "codemirror_mode": {
    "name": "ipython",
    "version": 3
   },
   "file_extension": ".py",
   "mimetype": "text/x-python",
   "name": "python",
   "nbconvert_exporter": "python",
   "pygments_lexer": "ipython3",
   "version": "3.9.2"
  }
 },
 "nbformat": 4,
 "nbformat_minor": 5
}
