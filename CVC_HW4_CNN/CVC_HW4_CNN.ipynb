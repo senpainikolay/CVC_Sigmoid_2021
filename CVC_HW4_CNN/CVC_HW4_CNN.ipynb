{
 "cells": [
  {
   "cell_type": "code",
   "execution_count": 1,
   "id": "0418bc9b",
   "metadata": {},
   "outputs": [],
   "source": [
    "#Important imports\n",
    "import torch\n",
    "from torch import nn as nn\n",
    "from torch.utils.data import DataLoader\n",
    "from torch import optim \n",
    "import matplotlib.pyplot as plt\n",
    "from torch.nn import functional as F\n",
    "from torchvision.datasets import ImageFolder\n",
    "from torchvision import transforms,models\n",
    "import matplotlib.pyplot as plt\n",
    "\n",
    "#Choosing devide to be gpu if have one, else cpu\n",
    "DEVICE = torch.device('cuda' if torch.cuda.is_available else 'cpu')"
   ]
  },
  {
   "cell_type": "code",
   "execution_count": 2,
   "id": "6d8903c1",
   "metadata": {},
   "outputs": [],
   "source": [
    "class DataSet():\n",
    "\n",
    "    def __init__(self,trainPath,testPath):  \n",
    "        transformations = transforms.Compose([\n",
    "        transforms.Resize((224,224)),\n",
    "        transforms.ToTensor(),\n",
    "        transforms.Normalize(\n",
    "        mean=[0.485, 0.456, 0.406],\n",
    "        std=[0.229, 0.224, 0.225]\n",
    "                          )\n",
    "                        ])  \n",
    "        self.train_data = ImageFolder(trainPath, transform = transformations)\n",
    "        self.test_data = ImageFolder(testPath, transform = transformations)  \n",
    "        \n",
    "        self.train_loader = DataLoader(self.train_data, batch_size = 32, shuffle =True)\n",
    "        self.test_loader = DataLoader(self.test_data, batch_size = 32, shuffle =True)\n",
    "        \n",
    "        \n",
    "    def dispIMG(self,nrImg):\n",
    "              plt.imshow((self.train_data[nrImg][0]).permute(1,2,0))\n",
    "        \n",
    "        \n",
    "        \n",
    "    "
   ]
  },
  {
   "cell_type": "code",
   "execution_count": 3,
   "id": "2fbb8a54",
   "metadata": {},
   "outputs": [],
   "source": [
    "class Net(nn.Module):\n",
    "    \n",
    "    def __init__(self):\n",
    "        super().__init__()\n",
    "        \n",
    "        # (224,224)\n",
    "        \n",
    "        self.conv1 = nn.Conv2d(3, 32, kernel_size = 3, padding=1)\n",
    "        \n",
    "        self.pool1 = nn.MaxPool2d(2)\n",
    "        \n",
    "        # (112,112)\n",
    "        \n",
    "        self.conv2 = nn.Conv2d(32, 64, kernel_size = 3, padding = 1)\n",
    "        \n",
    "        self.pool2 = nn.MaxPool2d(2)\n",
    "        \n",
    "        # (56,56)\n",
    "        \n",
    "        self.conv3 = nn.Conv2d(64, 128, kernel_size = 3, padding = 1)\n",
    "        \n",
    "        self.pool3 = nn.MaxPool2d(2)\n",
    "        # (28,28)\n",
    "        \n",
    "        self.flatten = nn.Flatten()\n",
    "        \n",
    "        self.fc1 = nn.Linear(128*28*28,256)\n",
    "        self.fc2 = nn.Linear(256, 128)\n",
    "        self.fc3 = nn.Linear(128,1)\n",
    "    \n",
    "    def forward(self, x):\n",
    "        out = self.pool1(F.relu(self.conv1(x)))\n",
    "        out = self.pool2(F.relu(self.conv2(out)))\n",
    "        out = self.pool3(F.relu(self.conv3(out)))\n",
    "        \n",
    "        out = self.flatten(out)\n",
    "        \n",
    "        out = F.relu(self.fc1(out))\n",
    "        out = F.relu(self.fc2(out))\n",
    "        out = torch.sigmoid(self.fc3(out))\n",
    "        \n",
    "        return out"
   ]
  },
  {
   "cell_type": "code",
   "execution_count": 4,
   "id": "7066827c",
   "metadata": {},
   "outputs": [],
   "source": [
    "class CNN(DataSet):\n",
    "    def __init__(self,trainPath,testPath, n_epochs,model): \n",
    "        super().__init__(trainPath,testPath)    \n",
    "        \n",
    "        learning_rate = 1e-3 # 0.001\n",
    "        self.model = model \n",
    "        self.optimizer = optim.Adam(self.model.parameters(),lr = learning_rate)\n",
    "        self.loss_fn = nn.BCELoss()  \n",
    "        self.n_epochs = n_epochs \n",
    "        \n",
    "        seed = 42\n",
    "        torch.manual_seed(seed)\n",
    "        if torch.cuda.is_available():\n",
    "            torch.cuda.manual_seed_all(seed)\n",
    "        \n",
    "    # Training loop for our network\n",
    "    def training_loop(self, print_plot=True):\n",
    "\n",
    "        #Initializing two lists to save accuracy to plot them later\n",
    "        train_accuracy = torch.zeros(self.n_epochs)\n",
    "        test_accuracy = torch.zeros(self.n_epochs)\n",
    "\n",
    "        #Going thru every epoch\n",
    "        for epoch in range(self.n_epochs):\n",
    "\n",
    "            #Going thru example, thru every batch, in our case, thru all data at once\n",
    "            for example, labels in self.train_loader:     \n",
    "\n",
    "                #Translating calculations to gpu if is available\n",
    "                example = example.to(DEVICE)\n",
    "                labels = labels.to(DEVICE)\n",
    "\n",
    "                # ensuring equal number of dimensions for labels and examples\n",
    "                labels  = labels.unsqueeze(1)\n",
    "\n",
    "                # running our data thru our data - forward\n",
    "                output = self.model(example.float())\n",
    "                # Getting loss of our network right now\n",
    "                loss = self.loss_fn(output, labels.float())\n",
    "\n",
    "                # Zeroing the gradient to not stack it from other iterations\n",
    "                self.optimizer.zero_grad()\n",
    "                #Runing backward part of the neural network, getting gradiets\n",
    "                loss.backward()\n",
    "                #Updating our paramters\n",
    "                self.optimizer.step()\n",
    "\n",
    "\n",
    "            with torch.no_grad():\n",
    "\n",
    "                for loader, accuracy in [(self.train_loader, train_accuracy),(self.test_loader, test_accuracy)]:\n",
    "                    correct = 0\n",
    "                    total = 0\n",
    "\n",
    "                    for examples, labels in loader:\n",
    "                        examples = examples.to(device=DEVICE)\n",
    "                        labels = labels.to(device=DEVICE).view(-1, 1)\n",
    "\n",
    "                        outputs = self.model(examples.float())\n",
    "                        predicted = torch.round(outputs)\n",
    "\n",
    "                        total += labels.shape[0]\n",
    "                        correct += (predicted == labels).sum()\n",
    "\n",
    "                    accuracy[epoch] = correct / total\n",
    "\n",
    "            print(f'Epoch {epoch+1})', \n",
    "                  f'Train Accuracy: {train_accuracy[epoch]}',\n",
    "                  f'Test Accuracy: {test_accuracy[epoch]}')\n",
    "\n",
    "        #If set to True, print graph of train and validation loss\n",
    "        if print_plot:\n",
    "\n",
    "            #Setting x-ticks\n",
    "            epochs = range(self.n_epochs)\n",
    "\n",
    "            #Ploting both curves, train and val \n",
    "            plt.plot(epochs, train_accuracy, 'g', label='Training accuracy')\n",
    "            plt.plot(epochs, test_accuracy, 'b', label='Test accuracy')\n",
    "            plt.title('Training and Test loss')\n",
    "            plt.xlabel('Epochs')\n",
    "            plt.ylabel('Loss')\n",
    "            plt.legend()\n",
    "            plt.show()    \n",
    "\n",
    "        \n",
    "\n",
    "    "
   ]
  },
  {
   "cell_type": "code",
   "execution_count": 5,
   "id": "45475c54",
   "metadata": {},
   "outputs": [],
   "source": [
    "model =  Net().to(DEVICE) \n",
    "NN = CNN(r'D:\\__python_works\\_cvc_jy\\data1\\train' , r'D:\\__python_works\\_cvc_jy\\data1\\test',15,model)\n"
   ]
  },
  {
   "cell_type": "code",
   "execution_count": 6,
   "id": "a977d6d6",
   "metadata": {},
   "outputs": [
    {
     "name": "stdout",
     "output_type": "stream",
     "text": [
      "Epoch 1) Train Accuracy: 0.8012893199920654 Test Accuracy: 0.7984848022460938\n",
      "Epoch 2) Train Accuracy: 0.8411073088645935 Test Accuracy: 0.821212112903595\n",
      "Epoch 3) Train Accuracy: 0.8581721782684326 Test Accuracy: 0.8272727131843567\n",
      "Epoch 4) Train Accuracy: 0.8896473050117493 Test Accuracy: 0.8409090638160706\n",
      "Epoch 5) Train Accuracy: 0.9192264080047607 Test Accuracy: 0.8439393639564514\n",
      "Epoch 6) Train Accuracy: 0.9457716941833496 Test Accuracy: 0.8287878632545471\n",
      "Epoch 7) Train Accuracy: 0.9484262466430664 Test Accuracy: 0.8015151023864746\n",
      "Epoch 8) Train Accuracy: 0.9799013733863831 Test Accuracy: 0.8272727131843567\n",
      "Epoch 9) Train Accuracy: 0.9844520092010498 Test Accuracy: 0.8303030133247375\n",
      "Epoch 10) Train Accuracy: 0.9905195236206055 Test Accuracy: 0.8363636136054993\n",
      "Epoch 11) Train Accuracy: 0.9601820111274719 Test Accuracy: 0.7984848022460938\n",
      "Epoch 12) Train Accuracy: 0.9977246522903442 Test Accuracy: 0.8363636136054993\n",
      "Epoch 13) Train Accuracy: 0.9882442355155945 Test Accuracy: 0.8409090638160706\n",
      "Epoch 14) Train Accuracy: 0.9988623261451721 Test Accuracy: 0.8469696640968323\n",
      "Epoch 15) Train Accuracy: 0.9924156069755554 Test Accuracy: 0.8499999642372131\n"
     ]
    },
    {
     "data": {
      "image/png": "[encoded data removed]",
      "text/plain": [
       "<Figure size 432x288 with 1 Axes>"
      ]
     },
     "metadata": {
      "needs_background": "light"
     },
     "output_type": "display_data"
    }
   ],
   "source": [
    "NN.training_loop()"
   ]
  },
  {
   "cell_type": "code",
   "execution_count": 7,
   "id": "77c3174d",
   "metadata": {},
   "outputs": [
    {
     "name": "stderr",
     "output_type": "stream",
     "text": [
      "Downloading: \"https://download.pytorch.org/models/resnet50-0676ba61.pth\" to C:\\Users\\nicol/.cache\\torch\\hub\\checkpoints\\resnet50-0676ba61.pth\n",
      "100.0%\n"
     ]
    }
   ],
   "source": [
    "from collections import OrderedDict\n",
    "\n",
    "model = models.resnet50(pretrained = True)\n",
    "\n",
    "for param in model.parameters():\n",
    "    param.required_grad = False\n",
    "    \n",
    "nr_feat = model.fc.in_features #2048 \n",
    "model.fc = nn.Sequential(OrderedDict([('fc',nn.Linear(nr_feat,1)),('sigmoid',nn.Sigmoid())])) \n",
    "\n",
    "model =  Net().to(DEVICE) \n",
    "NN2 = CNN(r'D:\\__python_works\\_cvc_jy\\data1\\train' , r'D:\\__python_works\\_cvc_jy\\data1\\test',15,model)\n"
   ]
  },
  {
   "cell_type": "code",
   "execution_count": 8,
   "id": "03a4ebc4",
   "metadata": {},
   "outputs": [
    {
     "name": "stdout",
     "output_type": "stream",
     "text": [
      "Epoch 1) Train Accuracy: 0.7690557241439819 Test Accuracy: 0.7545454502105713\n",
      "Epoch 2) Train Accuracy: 0.8115282654762268 Test Accuracy: 0.8075757026672363\n",
      "Epoch 3) Train Accuracy: 0.8574137091636658 Test Accuracy: 0.8272727131843567\n",
      "Epoch 4) Train Accuracy: 0.8706863522529602 Test Accuracy: 0.8348484635353088\n",
      "Epoch 5) Train Accuracy: 0.8816837072372437 Test Accuracy: 0.8166666626930237\n",
      "Epoch 6) Train Accuracy: 0.9203640222549438 Test Accuracy: 0.821212112903595\n",
      "Epoch 7) Train Accuracy: 0.9393249750137329 Test Accuracy: 0.8181818127632141\n",
      "Epoch 8) Train Accuracy: 0.956010639667511 Test Accuracy: 0.8303030133247375\n",
      "Epoch 9) Train Accuracy: 0.958285927772522 Test Accuracy: 0.821212112903595\n",
      "Epoch 10) Train Accuracy: 0.9829351305961609 Test Accuracy: 0.8181818127632141\n",
      "Epoch 11) Train Accuracy: 0.9916571974754333 Test Accuracy: 0.8348484635353088\n",
      "Epoch 12) Train Accuracy: 0.9973454475402832 Test Accuracy: 0.8242424130439758\n",
      "Epoch 13) Train Accuracy: 0.9977246522903442 Test Accuracy: 0.8499999642372131\n",
      "Epoch 14) Train Accuracy: 0.9988623261451721 Test Accuracy: 0.8333333134651184\n",
      "Epoch 15) Train Accuracy: 0.9844520092010498 Test Accuracy: 0.8075757026672363\n"
     ]
    },
    {
     "data": {
      "image/png": "[encoded data removed]",
      "text/plain": [
       "<Figure size 432x288 with 1 Axes>"
      ]
     },
     "metadata": {
      "needs_background": "light"
     },
     "output_type": "display_data"
    }
   ],
   "source": [
    "NN2.training_loop()"
   ]
  }
 ],
 "metadata": {
  "kernelspec": {
   "display_name": "Python 3 (ipykernel)",
   "language": "python",
   "name": "python3"
  },
  "language_info": {
   "codemirror_mode": {
    "name": "ipython",
    "version": 3
   },
   "file_extension": ".py",
   "mimetype": "text/x-python",
   "name": "python",
   "nbconvert_exporter": "python",
   "pygments_lexer": "ipython3",
   "version": "3.9.2"
  }
 },
 "nbformat": 4,
 "nbformat_minor": 5
}
