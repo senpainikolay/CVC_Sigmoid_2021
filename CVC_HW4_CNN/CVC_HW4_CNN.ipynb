{
 "cells": [
  {
   "cell_type": "code",
   "execution_count": 1,
   "id": "0418bc9b",
   "metadata": {},
   "outputs": [],
   "source": [
    "#Important imports\n",
    "import torch\n",
    "from torch import nn as nn\n",
    "from torch.utils.data import DataLoader\n",
    "from torch import optim \n",
    "import matplotlib.pyplot as plt\n",
    "from torch.nn import functional as F\n",
    "from torchvision.datasets import ImageFolder\n",
    "from torchvision import transforms,models\n",
    "import matplotlib.pyplot as plt\n",
    "\n",
    "#Choosing devide to be gpu if have one, else cpu\n",
    "DEVICE = torch.device('cuda' if torch.cuda.is_available else 'cpu')"
   ]
  },
  {
   "cell_type": "code",
   "execution_count": 2,
   "id": "6d8903c1",
   "metadata": {},
   "outputs": [],
   "source": [
    "class DataSet():\n",
    "\n",
    "    def __init__(self,trainPath,testPath):  \n",
    "        transformations = transforms.Compose([\n",
    "        transforms.Resize((224,224)),\n",
    "        transforms.ToTensor(),\n",
    "        transforms.Normalize(\n",
    "        mean=[0.485, 0.456, 0.406],\n",
    "        std=[0.229, 0.224, 0.225]\n",
    "                          )\n",
    "                        ])  \n",
    "        self.train_data = ImageFolder(trainPath, transform = transformations)\n",
    "        self.test_data = ImageFolder(testPath, transform = transformations)  \n",
    "        \n",
    "        self.train_loader = DataLoader(self.train_data, batch_size = 32, shuffle =True)\n",
    "        self.test_loader = DataLoader(self.test_data, batch_size = 32, shuffle =True)\n",
    "        \n",
    "        \n",
    "    def dispIMG(self,nrImg):\n",
    "              plt.imshow((self.train_data[nrImg][0]).permute(1,2,0))\n",
    "        \n",
    "        \n",
    "        \n",
    "    "
   ]
  },
  {
   "cell_type": "code",
   "execution_count": 3,
   "id": "2fbb8a54",
   "metadata": {},
   "outputs": [],
   "source": [
    "class Net(nn.Module):\n",
    "    \n",
    "    def __init__(self):\n",
    "        super().__init__()\n",
    "        \n",
    "        # (224,224)\n",
    "        \n",
    "        self.conv1 = nn.Conv2d(3, 32, kernel_size = 3, padding=1)\n",
    "        \n",
    "        self.pool1 = nn.MaxPool2d(2)\n",
    "        \n",
    "        # (112,112)\n",
    "        \n",
    "        self.conv2 = nn.Conv2d(32, 64, kernel_size = 3, padding = 1)\n",
    "        \n",
    "        self.pool2 = nn.MaxPool2d(2)\n",
    "        \n",
    "        # (56,56)\n",
    "        \n",
    "        self.conv3 = nn.Conv2d(64, 128, kernel_size = 3, padding = 1)\n",
    "        \n",
    "        self.pool3 = nn.MaxPool2d(2)\n",
    "        # (28,28)\n",
    "        \n",
    "        self.flatten = nn.Flatten()\n",
    "        \n",
    "        self.fc1 = nn.Linear(128*28*28,256)\n",
    "        self.fc2 = nn.Linear(256, 128)\n",
    "        self.fc3 = nn.Linear(128,1)\n",
    "    \n",
    "    def forward(self, x):\n",
    "        out = self.pool1(F.relu(self.conv1(x)))\n",
    "        out = self.pool2(F.relu(self.conv2(out)))\n",
    "        out = self.pool3(F.relu(self.conv3(out)))\n",
    "        \n",
    "        out = self.flatten(out)\n",
    "        \n",
    "        out = F.relu(self.fc1(out))\n",
    "        out = F.relu(self.fc2(out))\n",
    "        out = torch.sigmoid(self.fc3(out))\n",
    "        \n",
    "        return out"
   ]
  },
  {
   "cell_type": "code",
   "execution_count": 4,
   "id": "7066827c",
   "metadata": {},
   "outputs": [],
   "source": [
    "class CNN(DataSet):\n",
    "    def __init__(self,trainPath,testPath, n_epochs,model): \n",
    "        super().__init__(trainPath,testPath)    \n",
    "        \n",
    "        learning_rate = 1e-3 # 0.001\n",
    "        self.model = model \n",
    "        self.optimizer = optim.Adam(self.model.parameters(),lr = learning_rate)\n",
    "        self.loss_fn = nn.BCELoss()  \n",
    "        self.n_epochs = n_epochs \n",
    "        \n",
    "        seed = 42\n",
    "        torch.manual_seed(seed)\n",
    "        if torch.cuda.is_available():\n",
    "            torch.cuda.manual_seed_all(seed)\n",
    "        \n",
    "    # Training loop for our network\n",
    "    def training_loop(self, print_plot=True):\n",
    "\n",
    "        #Initializing two lists to save accuracy to plot them later\n",
    "        train_accuracy = torch.zeros(self.n_epochs)\n",
    "        test_accuracy = torch.zeros(self.n_epochs)\n",
    "\n",
    "        #Going thru every epoch\n",
    "        for epoch in range(self.n_epochs):\n",
    "\n",
    "            #Going thru example, thru every batch, in our case, thru all data at once\n",
    "            for example, labels in self.train_loader:     \n",
    "\n",
    "                #Translating calculations to gpu if is available\n",
    "                example = example.to(DEVICE)\n",
    "                labels = labels.to(DEVICE)\n",
    "\n",
    "                # ensuring equal number of dimensions for labels and examples\n",
    "                labels  = labels.unsqueeze(1)\n",
    "\n",
    "                # running our data thru our data - forward\n",
    "                output = self.model(example.float())\n",
    "                # Getting loss of our network right now\n",
    "                loss = self.loss_fn(output, labels.float())\n",
    "\n",
    "                # Zeroing the gradient to not stack it from other iterations\n",
    "                self.optimizer.zero_grad()\n",
    "                #Runing backward part of the neural network, getting gradiets\n",
    "                loss.backward()\n",
    "                #Updating our paramters\n",
    "                self.optimizer.step()\n",
    "\n",
    "\n",
    "            with torch.no_grad():\n",
    "\n",
    "                for loader, accuracy in [(self.train_loader, train_accuracy),(self.test_loader, test_accuracy)]:\n",
    "                    correct = 0\n",
    "                    total = 0\n",
    "\n",
    "                    for examples, labels in loader:\n",
    "                        examples = examples.to(device=DEVICE)\n",
    "                        labels = labels.to(device=DEVICE).view(-1, 1)\n",
    "\n",
    "                        outputs = self.model(examples.float())\n",
    "                        predicted = torch.round(outputs)\n",
    "\n",
    "                        total += labels.shape[0]\n",
    "                        correct += (predicted == labels).sum()\n",
    "\n",
    "                    accuracy[epoch] = correct / total\n",
    "\n",
    "            print(f'Epoch {epoch+1})', \n",
    "                  f'Train Accuracy: {train_accuracy[epoch]}',\n",
    "                  f'Test Accuracy: {test_accuracy[epoch]}')\n",
    "\n",
    "        #If set to True, print graph of train and validation loss\n",
    "        if print_plot:\n",
    "\n",
    "            #Setting x-ticks\n",
    "            epochs = range(self.n_epochs)\n",
    "\n",
    "            #Ploting both curves, train and val \n",
    "            plt.plot(epochs, train_accuracy, 'g', label='Training accuracy')\n",
    "            plt.plot(epochs, test_accuracy, 'b', label='Test accuracy')\n",
    "            plt.title('Training and Test loss')\n",
    "            plt.xlabel('Epochs')\n",
    "            plt.ylabel('Loss')\n",
    "            plt.legend()\n",
    "            plt.show()    \n",
    "\n",
    "        \n",
    "\n",
    "    "
   ]
  },
  {
   "cell_type": "code",
   "execution_count": 5,
   "id": "45475c54",
   "metadata": {},
   "outputs": [],
   "source": [
    "model =  Net().to(DEVICE) \n",
    "NN = CNN(r'D:\\__python_works\\_cvc_jy\\data1\\train' , r'D:\\__python_works\\_cvc_jy\\data1\\test',15,model)\n"
   ]
  },
  {
   "cell_type": "code",
   "execution_count": 6,
   "id": "a977d6d6",
   "metadata": {},
   "outputs": [
    {
     "name": "stdout",
     "output_type": "stream",
     "text": [
      "Epoch 1) Train Accuracy: 0.78574138879776 Test Accuracy: 0.7772727012634277\n",
      "Epoch 2) Train Accuracy: 0.7887751460075378 Test Accuracy: 0.7863636016845703\n",
      "Epoch 3) Train Accuracy: 0.8464163541793823 Test Accuracy: 0.8393939137458801\n",
      "Epoch 4) Train Accuracy: 0.8699279427528381 Test Accuracy: 0.8454545140266418\n",
      "Epoch 5) Train Accuracy: 0.9059537053108215 Test Accuracy: 0.8333333134651184\n",
      "Epoch 6) Train Accuracy: 0.935912013053894 Test Accuracy: 0.831818163394928\n",
      "Epoch 7) Train Accuracy: 0.9366704821586609 Test Accuracy: 0.803030252456665\n",
      "Epoch 8) Train Accuracy: 0.9624573588371277 Test Accuracy: 0.831818163394928\n",
      "Epoch 9) Train Accuracy: 0.9738339185714722 Test Accuracy: 0.8272727131843567\n",
      "Epoch 10) Train Accuracy: 0.9920364022254944 Test Accuracy: 0.831818163394928\n",
      "Epoch 11) Train Accuracy: 0.9962078332901001 Test Accuracy: 0.8272727131843567\n",
      "Epoch 12) Train Accuracy: 0.9863480925559998 Test Accuracy: 0.8121212124824524\n",
      "Epoch 13) Train Accuracy: 0.9992415308952332 Test Accuracy: 0.8484848141670227\n",
      "Epoch 14) Train Accuracy: 0.99810391664505 Test Accuracy: 0.8484848141670227\n",
      "Epoch 15) Train Accuracy: 0.9946909546852112 Test Accuracy: 0.8303030133247375\n"
     ]
    },
    {
     "data": {
      "image/png": "[encoded data removed]",
      "text/plain": [
       "<Figure size 432x288 with 1 Axes>"
      ]
     },
     "metadata": {
      "needs_background": "light"
     },
     "output_type": "display_data"
    }
   ],
   "source": [
    "NN.training_loop()"
   ]
  },
  {
   "cell_type": "code",
   "execution_count": 7,
   "id": "77c3174d",
   "metadata": {},
   "outputs": [],
   "source": [
    "from collections import OrderedDict\n",
    "\n",
    "model = models.resnet50(pretrained = True)\n",
    "\n",
    "for param in model.parameters():\n",
    "    param.required_grad = False\n",
    "    \n",
    "nr_feat = model.fc.in_features #2048 \n",
    "model.fc = nn.Sequential(OrderedDict([('fc',nn.Linear(nr_feat,1)),('sigmoid',nn.Sigmoid())])) \n",
    "\n",
    "model =  model.to(DEVICE) \n",
    "NN2 = CNN(r'D:\\__python_works\\_cvc_jy\\data1\\train' , r'D:\\__python_works\\_cvc_jy\\data1\\test',15,model)\n"
   ]
  },
  {
   "cell_type": "code",
   "execution_count": 8,
   "id": "03a4ebc4",
   "metadata": {},
   "outputs": [
    {
     "name": "stdout",
     "output_type": "stream",
     "text": [
      "Epoch 1) Train Accuracy: 0.8392112255096436 Test Accuracy: 0.8272727131843567\n",
      "Epoch 2) Train Accuracy: 0.8623435497283936 Test Accuracy: 0.8348484635353088\n",
      "Epoch 3) Train Accuracy: 0.8566552996635437 Test Accuracy: 0.8454545140266418\n",
      "Epoch 4) Train Accuracy: 0.8581721782684326 Test Accuracy: 0.8469696640968323\n",
      "Epoch 5) Train Accuracy: 0.871065616607666 Test Accuracy: 0.8545454144477844\n",
      "Epoch 6) Train Accuracy: 0.8892681002616882 Test Accuracy: 0.842424213886261\n",
      "Epoch 7) Train Accuracy: 0.871065616607666 Test Accuracy: 0.8606060147285461\n",
      "Epoch 8) Train Accuracy: 0.9029200077056885 Test Accuracy: 0.8666666150093079\n",
      "Epoch 9) Train Accuracy: 0.8991277813911438 Test Accuracy: 0.8727272748947144\n",
      "Epoch 10) Train Accuracy: 0.894577145576477 Test Accuracy: 0.8560605645179749\n",
      "Epoch 11) Train Accuracy: 0.8816837072372437 Test Accuracy: 0.8666666150093079\n",
      "Epoch 12) Train Accuracy: 0.8957148194313049 Test Accuracy: 0.8409090638160706\n",
      "Epoch 13) Train Accuracy: 0.9086082577705383 Test Accuracy: 0.8606060147285461\n",
      "Epoch 14) Train Accuracy: 0.9002654552459717 Test Accuracy: 0.842424213886261\n",
      "Epoch 15) Train Accuracy: 0.9400834441184998 Test Accuracy: 0.8606060147285461\n"
     ]
    },
    {
     "data": {
      "image/png": "[encoded data removed]",
      "text/plain": [
       "<Figure size 432x288 with 1 Axes>"
      ]
     },
     "metadata": {
      "needs_background": "light"
     },
     "output_type": "display_data"
    }
   ],
   "source": [
    "NN2.training_loop()"
   ]
  }
 ],
 "metadata": {
  "kernelspec": {
   "display_name": "Python 3 (ipykernel)",
   "language": "python",
   "name": "python3"
  },
  "language_info": {
   "codemirror_mode": {
    "name": "ipython",
    "version": 3
   },
   "file_extension": ".py",
   "mimetype": "text/x-python",
   "name": "python",
   "nbconvert_exporter": "python",
   "pygments_lexer": "ipython3",
   "version": "3.9.2"
  }
 },
 "nbformat": 4,
 "nbformat_minor": 5
}
